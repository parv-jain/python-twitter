{
 "cells": [
  {
   "cell_type": "markdown",
   "metadata": {},
   "source": [
    "## Install and import all necessary libraries\n",
    "- pip install python-twitter\n",
    "- pip install plotly"
   ]
  },
  {
   "cell_type": "code",
   "execution_count": 4,
   "metadata": {},
   "outputs": [],
   "source": [
    "import twitter\n",
    "import json\n",
    "import pandas as pd\n",
    "import base64\n",
    "import plotly.plotly as py\n",
    "from plotly.graph_objs import *"
   ]
  },
  {
   "cell_type": "markdown",
   "metadata": {},
   "source": [
    "## Get twitter access tokens\n",
    "\n",
    "Access tokens are like user name and password combined in one long string. This string is used to authenticate a user or application accessing a service (twitter in this case).\n",
    "\n",
    "Twitter uses OAuth which is an open standard for authorization."
   ]
  },
  {
   "cell_type": "code",
   "execution_count": 5,
   "metadata": {},
   "outputs": [],
   "source": [
    "ACCESS_TOKEN = '1103250639751045125-64wei8PVaEYLulCZFwmVOroSY2Uy93'\n",
    "ACCESS_SECRET = 'wFgbu2tyZn1YEtbvspSJnHHmJHooRy8VN07Cm2WQ52tHj'\n",
    "CONSUMER_KEY = 'uAdT2XPuukxYg7gR9fCPt8I3Y'\n",
    "CONSUMER_SECRET = 'HtJllj70PJcghhthESo53wNSWtjVnTjYu1pnNnQTWs1GIoArA0'"
   ]
  },
  {
   "cell_type": "markdown",
   "metadata": {},
   "source": [
    "## Setup twitter api using python"
   ]
  },
  {
   "cell_type": "code",
   "execution_count": 6,
   "metadata": {},
   "outputs": [
    {
     "name": "stdout",
     "output_type": "stream",
     "text": [
      "{\"created_at\": \"Wed Mar 06 11:07:04 +0000 2019\", \"default_profile\": true, \"default_profile_image\": true, \"id\": 1103250639751045125, \"id_str\": \"1103250639751045125\", \"lang\": \"en\", \"name\": \"Parv Jain\", \"profile_background_color\": \"F5F8FA\", \"profile_image_url\": \"http://abs.twimg.com/sticky/default_profile_images/default_profile_normal.png\", \"profile_image_url_https\": \"https://abs.twimg.com/sticky/default_profile_images/default_profile_normal.png\", \"profile_link_color\": \"1DA1F2\", \"profile_sidebar_border_color\": \"C0DEED\", \"profile_sidebar_fill_color\": \"DDEEF6\", \"profile_text_color\": \"333333\", \"profile_use_background_image\": true, \"screen_name\": \"parv_16\"}\n"
     ]
    }
   ],
   "source": [
    "api = twitter.Api(consumer_key=CONSUMER_KEY,\n",
    "                  consumer_secret=CONSUMER_SECRET,\n",
    "                  access_token_key=ACCESS_TOKEN,\n",
    "                  access_token_secret=ACCESS_SECRET)\n",
    "print(api.VerifyCredentials())"
   ]
  },
  {
   "cell_type": "markdown",
   "metadata": {},
   "source": [
    "## Twitter Python API twitter-python\n",
    "- Detailed documentation [link](https://python-twitter.readthedocs.io/en/latest/)\n",
    "    \n",
    "## Analyze the tweets\n",
    "- Get the number of positive/ neutral and negative tweets\n",
    "- Draw bar chart and analyze the numbers\n",
    "    \n",
    "## Install the libraries required for sentiment analysis\n",
    "- pip install textblob\n",
    "- python -m textblob.download_corpora\n",
    "\n",
    "TextBlob is actually a high level library built over top of NLTK library. First we call clean_tweet method to remove links, special characters, etc. from the tweet using some simple regex. Then, as we pass tweet to create a TextBlob object, following processing is done over text by textblob library:\n",
    "\n",
    "Tokenize the tweet ,i.e split words from body of text. Remove stopwords from the tokens.(stopwords are the commonly used words which are irrelevant in text analysis like I, am, you, are, etc.) Do POS( part of speech) tagging of the tokens and select only significant features/tokens like adjectives, adverbs, etc. Pass the tokens to a sentiment classifier which classifies the tweet sentiment as positive, negative or neutral by assigning it a polarity between -1.0 to 1.0 . Here is how sentiment classifier is created:\n",
    "\n",
    "TextBlob uses a Movies Reviews dataset in which reviews have already been labelled as positive or negative. Positive and negative features are extracted from each positive and negative review respectively. Training data now consists of labelled positive and negative features. This data is trained on a Naive Bayes Classifier. Then, we use sentiment.polarity method of TextBlob class to get the polarity of tweet between -1 to 1. Then, we classify polarity as:\n",
    "\n",
    "- positive\n",
    "- negative\n",
    "- neutral"
   ]
  },
  {
   "cell_type": "code",
   "execution_count": 11,
   "metadata": {},
   "outputs": [],
   "source": [
    "import re\n",
    "from textblob import TextBlob\n",
    "\n",
    "def clean_tweet(tweet):\n",
    "    '''\n",
    "    Utility function to clean tweet text by removing links, special characters\n",
    "    using simple regex statements.\n",
    "    '''\n",
    "    return ' '.join(re.sub(\"(@[A-Za-z0-9]+)|([^0-9A-Za-z \\t]) |(\\w+:\\/\\/\\S+)\", \" \", tweet).split())\n",
    "\n",
    "def get_tweet_sentiment(tweet):\n",
    "    '''\n",
    "    Utility function to classify sentiment of passed tweet\n",
    "    using textblob's sentiment method\n",
    "    '''\n",
    "    # create TextBlob object of passed tweet text\n",
    "    analysis = TextBlob(clean_tweet(tweet))\n",
    "    # set sentiment\n",
    "    if analysis.sentiment.polarity > 0:\n",
    "        return 'positive'\n",
    "    elif analysis.sentiment.polarity == 0:\n",
    "        return 'neutral'\n",
    "    else:\n",
    "        return 'negative'\n",
    "    \n",
    "def get_min_max(tweets):\n",
    "    ids = []\n",
    "    for tweet in tweets:\n",
    "        # print tweet\n",
    "        if type(tweet) is list:\n",
    "            tweet = tweet[0]\n",
    "        ids.append(tweet.id)\n",
    "    min_id = min(ids)\n",
    "    max_id = max(ids)\n",
    "    return min_id, max_id\n",
    "    \n",
    "def get_tweets(term, count):\n",
    "    all_tweets = []\n",
    "    max_id = 843567375765159939000000\n",
    "    #print max_id\n",
    "    loop_count = int(count / 100)\n",
    "    for i in range(loop_count):\n",
    "        tweets = api.GetSearch(term=term, count = 100)\n",
    "        #print 'Total number of tweets found - '  +  str(len(tweets))\n",
    "        try:\n",
    "            min_id, max_id = get_min_max(tweets)\n",
    "            all_tweets = all_tweets + tweets\n",
    "        except:\n",
    "            print('something wrong')\n",
    "            pass\n",
    "    return all_tweets\n",
    "  \n",
    "\n",
    "def get_tweets_df(tweets):\n",
    "    result = []\n",
    "    for tweet in tweets:\n",
    "        favorite_count = tweet.favorite_count\n",
    "        retweet_count = tweet.retweet_count\n",
    "        source = tweet.source\n",
    "        text = tweet.text\n",
    "        urls = tweet.urls\n",
    "        sentiment = get_tweet_sentiment(text)\n",
    "        \n",
    "        result.append({\n",
    "            #'text': base64.b64encode(text.encode('ascii', 'ignore').decode('ascii')),\n",
    "            'text': text.encode('ascii', 'ignore').decode('ascii'),\n",
    "            'sentiment': sentiment,\n",
    "            'favorite_count' : favorite_count,\n",
    "            'source' : source,\n",
    "            'retweet_count' : retweet_count,\n",
    "            'user_fav_count': tweet.user.favourites_count,\n",
    "            'user_follower_count': tweet.user.followers_count,\n",
    "            'user_friends_count': tweet.user.friends_count,\n",
    "            'user_screen_name' : tweet.user.screen_name.encode('ascii', 'ignore').decode('ascii'),\n",
    "            'user_name': tweet.user.name.encode('ascii', 'ignore').decode('ascii'),\n",
    "            'user_url': tweet.user.url\n",
    "        })\n",
    "    result_df = pd.DataFrame(result)\n",
    "    return result_df\n",
    "\n",
    "def print_tweet(tweet):\n",
    "    print('---- Printing tweet ----')\n",
    "    print(tweet.favorite_count)\n",
    "    print(tweet.text)\n",
    "    print(' --------- x --------- ')"
   ]
  },
  {
   "cell_type": "markdown",
   "metadata": {},
   "source": [
    "## Fetch tweets for different political personalities"
   ]
  },
  {
   "cell_type": "code",
   "execution_count": 21,
   "metadata": {},
   "outputs": [
    {
     "name": "stdout",
     "output_type": "stream",
     "text": [
      "Fetching tweets for Yogi\n",
      "Total number of tweets fetched = 1000\n",
      "Fetching tweets for NAMO\n",
      "Total number of tweets fetched = 1000\n",
      "Fetching tweets for AK\n",
      "Total number of tweets fetched = 1000\n",
      "Fetching tweets for RG\n",
      "Total number of tweets fetched = 1000\n"
     ]
    }
   ],
   "source": [
    "print('Fetching tweets for Yogi')\n",
    "tweets_yogi = get_tweets('Yogi Adityanath', 1000)\n",
    "print('Total number of tweets fetched = ' + str(len(tweets_yogi)))\n",
    "\n",
    "print('Fetching tweets for NAMO')\n",
    "tweets_namo = get_tweets('Narendra Modi', 1000)\n",
    "print('Total number of tweets fetched = ' + str(len(tweets_namo)))\n",
    "\n",
    "print('Fetching tweets for AK')\n",
    "tweets_ak = get_tweets('Arvind Kejriwal', 1000)\n",
    "print('Total number of tweets fetched = ' + str(len(tweets_ak)))\n",
    "\n",
    "print('Fetching tweets for RG')\n",
    "tweets_rg = get_tweets('Rahul Gandhi', 1000)\n",
    "print('Total number of tweets fetched = ' + str(len(tweets_rg)))\n",
    "#print tweets"
   ]
  },
  {
   "cell_type": "markdown",
   "metadata": {},
   "source": [
    "## Convert dicts into pandas data frame"
   ]
  },
  {
   "cell_type": "code",
   "execution_count": 22,
   "metadata": {},
   "outputs": [],
   "source": [
    "df_yogi = get_tweets_df(tweets_yogi)\n",
    "df_namo = get_tweets_df(tweets_namo)\n",
    "df_ak = get_tweets_df(tweets_ak)\n",
    "df_rg = get_tweets_df(tweets_rg)\n",
    "\n",
    "df_yogi.to_csv('yogi.csv')\n",
    "df_namo.to_csv('namo.csv')\n",
    "df_ak.to_csv('ak.csv')\n",
    "df_rg.to_csv('rg.csv')"
   ]
  },
  {
   "cell_type": "code",
   "execution_count": 23,
   "metadata": {},
   "outputs": [
    {
     "data": {
      "text/html": [
       "<div>\n",
       "<style scoped>\n",
       "    .dataframe tbody tr th:only-of-type {\n",
       "        vertical-align: middle;\n",
       "    }\n",
       "\n",
       "    .dataframe tbody tr th {\n",
       "        vertical-align: top;\n",
       "    }\n",
       "\n",
       "    .dataframe thead th {\n",
       "        text-align: right;\n",
       "    }\n",
       "</style>\n",
       "<table border=\"1\" class=\"dataframe\">\n",
       "  <thead>\n",
       "    <tr style=\"text-align: right;\">\n",
       "      <th></th>\n",
       "      <th>favorite_count</th>\n",
       "      <th>retweet_count</th>\n",
       "      <th>sentiment</th>\n",
       "      <th>source</th>\n",
       "      <th>text</th>\n",
       "      <th>user_fav_count</th>\n",
       "      <th>user_follower_count</th>\n",
       "      <th>user_friends_count</th>\n",
       "      <th>user_name</th>\n",
       "      <th>user_screen_name</th>\n",
       "      <th>user_url</th>\n",
       "    </tr>\n",
       "  </thead>\n",
       "  <tbody>\n",
       "    <tr>\n",
       "      <th>0</th>\n",
       "      <td>1981</td>\n",
       "      <td>296</td>\n",
       "      <td>positive</td>\n",
       "      <td>&lt;a href=\"http://twitter.com\" rel=\"nofollow\"&gt;Tw...</td>\n",
       "      <td>UP CM Yogi Adityanath: More than 3200 NRIs too...</td>\n",
       "      <td>0</td>\n",
       "      <td>134468</td>\n",
       "      <td>0</td>\n",
       "      <td>ANI UP</td>\n",
       "      <td>ANINewsUP</td>\n",
       "      <td>https://t.co/cFcHWKpY59</td>\n",
       "    </tr>\n",
       "    <tr>\n",
       "      <th>1</th>\n",
       "      <td>417</td>\n",
       "      <td>176</td>\n",
       "      <td>neutral</td>\n",
       "      <td>&lt;a href=\"https://about.twitter.com/products/tw...</td>\n",
       "      <td>Yogi Adityanath Government Demolishes Urdu Gat...</td>\n",
       "      <td>575</td>\n",
       "      <td>98350</td>\n",
       "      <td>668</td>\n",
       "      <td>Swarajya</td>\n",
       "      <td>SwarajyaMag</td>\n",
       "      <td>http://t.co/3WYSd8k9BS</td>\n",
       "    </tr>\n",
       "    <tr>\n",
       "      <th>2</th>\n",
       "      <td>296</td>\n",
       "      <td>75</td>\n",
       "      <td>neutral</td>\n",
       "      <td>&lt;a href=\"http://twitter.com/download/iphone\" r...</td>\n",
       "      <td>DGP UP OP Singh being felicitated by Honble Go...</td>\n",
       "      <td>1066</td>\n",
       "      <td>10295</td>\n",
       "      <td>21</td>\n",
       "      <td>Kumbh Mela Police UP 2019</td>\n",
       "      <td>kumbhMelaPolUP</td>\n",
       "      <td>https://t.co/majcp2NSUM</td>\n",
       "    </tr>\n",
       "    <tr>\n",
       "      <th>3</th>\n",
       "      <td>0</td>\n",
       "      <td>38</td>\n",
       "      <td>negative</td>\n",
       "      <td>&lt;a href=\"http://twitter.com\" rel=\"nofollow\"&gt;Tw...</td>\n",
       "      <td>RT @SwarajyaMag: Yogi Adityanath Government De...</td>\n",
       "      <td>55197</td>\n",
       "      <td>504</td>\n",
       "      <td>401</td>\n",
       "      <td>Krishnaswamy</td>\n",
       "      <td>kristanjore</td>\n",
       "      <td>None</td>\n",
       "    </tr>\n",
       "    <tr>\n",
       "      <th>4</th>\n",
       "      <td>0</td>\n",
       "      <td>38</td>\n",
       "      <td>negative</td>\n",
       "      <td>&lt;a href=\"http://twitter.com/download/android\" ...</td>\n",
       "      <td>RT @SwarajyaMag: Yogi Adityanath Government De...</td>\n",
       "      <td>42424</td>\n",
       "      <td>258</td>\n",
       "      <td>174</td>\n",
       "      <td>Prasanna Srinivasan</td>\n",
       "      <td>prasanna4swaraj</td>\n",
       "      <td>None</td>\n",
       "    </tr>\n",
       "  </tbody>\n",
       "</table>\n",
       "</div>"
      ],
      "text/plain": [
       "   favorite_count  retweet_count sentiment  \\\n",
       "0            1981            296  positive   \n",
       "1             417            176   neutral   \n",
       "2             296             75   neutral   \n",
       "3               0             38  negative   \n",
       "4               0             38  negative   \n",
       "\n",
       "                                              source  \\\n",
       "0  <a href=\"http://twitter.com\" rel=\"nofollow\">Tw...   \n",
       "1  <a href=\"https://about.twitter.com/products/tw...   \n",
       "2  <a href=\"http://twitter.com/download/iphone\" r...   \n",
       "3  <a href=\"http://twitter.com\" rel=\"nofollow\">Tw...   \n",
       "4  <a href=\"http://twitter.com/download/android\" ...   \n",
       "\n",
       "                                                text  user_fav_count  \\\n",
       "0  UP CM Yogi Adityanath: More than 3200 NRIs too...               0   \n",
       "1  Yogi Adityanath Government Demolishes Urdu Gat...             575   \n",
       "2  DGP UP OP Singh being felicitated by Honble Go...            1066   \n",
       "3  RT @SwarajyaMag: Yogi Adityanath Government De...           55197   \n",
       "4  RT @SwarajyaMag: Yogi Adityanath Government De...           42424   \n",
       "\n",
       "   user_follower_count  user_friends_count                  user_name  \\\n",
       "0               134468                   0                     ANI UP   \n",
       "1                98350                 668                   Swarajya   \n",
       "2                10295                  21  Kumbh Mela Police UP 2019   \n",
       "3                  504                 401               Krishnaswamy   \n",
       "4                  258                 174        Prasanna Srinivasan   \n",
       "\n",
       "  user_screen_name                 user_url  \n",
       "0        ANINewsUP  https://t.co/cFcHWKpY59  \n",
       "1      SwarajyaMag   http://t.co/3WYSd8k9BS  \n",
       "2   kumbhMelaPolUP  https://t.co/majcp2NSUM  \n",
       "3      kristanjore                     None  \n",
       "4  prasanna4swaraj                     None  "
      ]
     },
     "execution_count": 23,
     "metadata": {},
     "output_type": "execute_result"
    }
   ],
   "source": [
    "df_yogi.head(5)"
   ]
  },
  {
   "cell_type": "code",
   "execution_count": 24,
   "metadata": {},
   "outputs": [
    {
     "name": "stdout",
     "output_type": "stream",
     "text": [
      "Yogi Adityanath positive tweets\n",
      "0     UP CM Yogi Adityanath: More than 3200 NRIs too...\n",
      "10    RT @ANINewsUP: UP CM Yogi Adityanath: More tha...\n",
      "11    RT @ANINewsUP: UP CM Yogi Adityanath: More tha...\n",
      "49    RT @masakadzas: 47 days, 24 cr people visiting...\n",
      "60    RT @ANINewsUP: UP CM Yogi Adityanath: More tha...\n",
      "Name: text, dtype: object\n",
      "Yogi Adityanath negative tweets\n",
      "3     RT @SwarajyaMag: Yogi Adityanath Government De...\n",
      "4     RT @SwarajyaMag: Yogi Adityanath Government De...\n",
      "6     RT @SwarajyaMag: Yogi Adityanath Government De...\n",
      "7     RT @SwarajyaMag: Yogi Adityanath Government De...\n",
      "12    Yogi Adityanath Government Demolishes Urdu Gat...\n",
      "Name: text, dtype: object\n"
     ]
    }
   ],
   "source": [
    "# Visualize some tweets\n",
    "print('Yogi Adityanath positive tweets')\n",
    "print(df_yogi[df_yogi['sentiment'] == 'positive']['text'].head())\n",
    "\n",
    "print('Yogi Adityanath negative tweets')\n",
    "print(df_yogi[df_yogi['sentiment'] == 'negative']['text'].head())\n"
   ]
  },
  {
   "cell_type": "markdown",
   "metadata": {},
   "source": [
    "## Analyze the final stats\n",
    "- Get the number of positive/ neutral and negative tweets\n",
    "- Draw bar chart and analyze the numbers"
   ]
  },
  {
   "cell_type": "code",
   "execution_count": 25,
   "metadata": {},
   "outputs": [
    {
     "name": "stdout",
     "output_type": "stream",
     "text": [
      "           YOGI  NAMO   AK   RG\n",
      "sentiment                      \n",
      "negative    370    20   50  117\n",
      "neutral     570   715  710  440\n",
      "positive     60   265  240  443\n"
     ]
    },
    {
     "data": {
      "text/plain": [
       "<matplotlib.axes._subplots.AxesSubplot at 0x7f517ad54898>"
      ]
     },
     "execution_count": 25,
     "metadata": {},
     "output_type": "execute_result"
    },
    {
     "data": {
      "image/png": "[encoded data removed]",
      "text/plain": [
       "<Figure size 432x288 with 1 Axes>"
      ]
     },
     "metadata": {},
     "output_type": "display_data"
    }
   ],
   "source": [
    "sentiment_yogi = df_yogi.groupby(['sentiment'])[['sentiment']].count()\n",
    "sentiment_yogi.rename(columns={'sentiment': 'YOGI'}, inplace=True)\n",
    "\n",
    "sentiment_namo = df_namo.groupby(['sentiment'])[['sentiment']].count()\n",
    "sentiment_namo.rename(columns={'sentiment': 'NAMO'}, inplace=True)\n",
    "\n",
    "sentiment_ak = df_ak.groupby(['sentiment'])[['sentiment']].count()\n",
    "sentiment_ak.rename(columns={'sentiment': 'AK'}, inplace=True)\n",
    "\n",
    "sentiment_rg = df_rg.groupby(['sentiment'])[['sentiment']].count()\n",
    "sentiment_rg.rename(columns={'sentiment': 'RG'}, inplace=True)\n",
    "\n",
    "#Concatenate the results df\n",
    "stats = pd.concat([sentiment_yogi, sentiment_namo, sentiment_ak, \n",
    "                   sentiment_rg] ,axis=1, join='inner')\n",
    "print(stats)\n",
    "\n",
    "%matplotlib inline\n",
    "stats.plot(kind='bar')"
   ]
  },
  {
   "cell_type": "code",
   "execution_count": null,
   "metadata": {},
   "outputs": [],
   "source": []
  }
 ],
 "metadata": {
  "kernelspec": {
   "display_name": "Python 3",
   "language": "python",
   "name": "python3"
  },
  "language_info": {
   "codemirror_mode": {
    "name": "ipython",
    "version": 3
   },
   "file_extension": ".py",
   "mimetype": "text/x-python",
   "name": "python",
   "nbconvert_exporter": "python",
   "pygments_lexer": "ipython3",
   "version": "3.6.5"
  }
 },
 "nbformat": 4,
 "nbformat_minor": 2
}
